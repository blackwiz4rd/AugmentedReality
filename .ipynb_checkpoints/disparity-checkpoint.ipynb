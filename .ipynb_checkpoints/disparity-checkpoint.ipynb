{
 "cells": [
  {
   "cell_type": "markdown",
   "metadata": {},
   "source": [
    "### Augmented reality - Project A.3\n",
    "Authors: Attanasio Luca, Savio Francesco\n",
    "\n",
    "### Assigment\n",
    "\n",
    "Stereo disparity computation from projected random dot pattern. Given 1\n",
    "a couple of stereo images from Aquifi camera, compute disparity using a multi-layer hierarchical approach, i.e., computing the disparity on a reduced resolution version of the two images and re-using the results of this computation at the higher resolution layer.\n",
    "Use up to three decomposition layers and measure the complexity reduction and the accuracy obtained.\n",
    "Dataset is available at http://www.dei.unipd.it/~sim1mil/CVcourse/imagesStereo.zip"
   ]
  },
  {
   "cell_type": "markdown",
   "metadata": {},
   "source": [
    "Stereo disparity: \n",
    "\n",
    "\n",
    "Projected random dot pattern: \n",
    "<img src=\"stereo.jpg\" width=\"200\">\n",
    "\n",
    "\n",
    "Multi-layer hierarchical approach (three decompision layers): compute the disparity on a reduced resolution version of the two images and re-using the results of this computation at the higher resolution layer.\n",
    "\n",
    "\n",
    "Assignment: measure the complexity reduction and the accuracy obtained."
   ]
  },
  {
   "cell_type": "code",
   "execution_count": null,
   "metadata": {},
   "outputs": [],
   "source": [
    "# !curl http://www.dei.unipd.it/~sim1mil/CVcourse/imagesStereo.zip --output imagesStereo.zip"
   ]
  },
  {
   "cell_type": "code",
   "execution_count": null,
   "metadata": {},
   "outputs": [],
   "source": [
    "# !unzip imagesStereo.zip\n",
    "# !rm imagesStereo.zip"
   ]
  },
  {
   "cell_type": "code",
   "execution_count": null,
   "metadata": {},
   "outputs": [],
   "source": [
    "import numpy as np\n",
    "import cv2 as cv\n",
    "from matplotlib import pyplot as plt\n",
    "%matplotlib inline\n",
    "\n",
    "imgL = cv.imread('imagesStereo/model1/file/color0_1.png',0)\n",
    "imgR = cv.imread('imagesStereo/model1/file/color0_2.png',0)\n",
    "\n",
    "stereo = cv.StereoBM_create(numDisparities=16, blockSize=15)\n",
    "disparity = stereo.compute(imgL,imgR)\n",
    "plt.imshow(disparity,'gray')\n",
    "plt.show()"
   ]
  },
  {
   "cell_type": "code",
   "execution_count": null,
   "metadata": {},
   "outputs": [],
   "source": []
  }
 ],
 "metadata": {
  "kernelspec": {
   "display_name": "Python 3",
   "language": "python",
   "name": "python3"
  },
  "language_info": {
   "codemirror_mode": {
    "name": "ipython",
    "version": 3
   },
   "file_extension": ".py",
   "mimetype": "text/x-python",
   "name": "python",
   "nbconvert_exporter": "python",
   "pygments_lexer": "ipython3",
   "version": "3.7.0"
  }
 },
 "nbformat": 4,
 "nbformat_minor": 2
}
